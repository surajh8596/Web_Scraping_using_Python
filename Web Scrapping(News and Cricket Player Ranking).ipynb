{
 "cells": [
  {
   "cell_type": "markdown",
   "id": "58646271",
   "metadata": {},
   "source": [
    "### Extract Data from Websites"
   ]
  },
  {
   "cell_type": "code",
   "execution_count": 54,
   "id": "abec80b6",
   "metadata": {},
   "outputs": [],
   "source": [
    "import os \n",
    "import pandas as pd\n",
    "pd.set_option('display.max_colwidth', 1000000)  ## To see full content Set Column width\n",
    "import numpy as np\n",
    "import seaborn as sns \n",
    "import matplotlib.pyplot as plt\n",
    "import requests   # connect between python and a webserver \n",
    "from bs4 import BeautifulSoup  # parsing data and fetching from website\n",
    "import warnings\n",
    "warnings.filterwarnings('ignore')"
   ]
  },
  {
   "cell_type": "code",
   "execution_count": null,
   "id": "c12e2fea",
   "metadata": {},
   "outputs": [],
   "source": []
  },
  {
   "cell_type": "markdown",
   "id": "6db8b6ee",
   "metadata": {},
   "source": [
    "## News Channel Content"
   ]
  },
  {
   "cell_type": "markdown",
   "id": "e6a25663",
   "metadata": {},
   "source": [
    "### General News"
   ]
  },
  {
   "cell_type": "code",
   "execution_count": 2,
   "id": "6779fdc4",
   "metadata": {},
   "outputs": [
    {
     "data": {
      "text/plain": [
       "<Response [200]>"
      ]
     },
     "execution_count": 2,
     "metadata": {},
     "output_type": "execute_result"
    }
   ],
   "source": [
    "india_news='https://www.timesnownews.com/india' ##Website page link\n",
    "india_news_req=requests.get(india_news)\n",
    "india_news_req"
   ]
  },
  {
   "cell_type": "markdown",
   "id": "3a0572a6",
   "metadata": {},
   "source": [
    "**<Response [200]> means connection is established.**"
   ]
  },
  {
   "cell_type": "raw",
   "id": "708e6275",
   "metadata": {},
   "source": [
    "100 : informational code indicates that the request is intiated by the browser in continues \n",
    "200 : successful connection\n",
    "300 : Redirecting codes \n",
    "400 : Client error indicating that there was a problem with request\n",
    "404 : not found : page is available or the server can not find the resources \n",
    "etc..."
   ]
  },
  {
   "cell_type": "code",
   "execution_count": 3,
   "id": "5e48930a",
   "metadata": {},
   "outputs": [],
   "source": [
    "india_news_content=india_news_req.content  ##To see the webpage content"
   ]
  },
  {
   "cell_type": "code",
   "execution_count": 4,
   "id": "7f1282a2",
   "metadata": {},
   "outputs": [],
   "source": [
    "india_news_parser=BeautifulSoup(india_news_content, parser=\"html.parser\") ##To create HTML view"
   ]
  },
  {
   "cell_type": "code",
   "execution_count": 5,
   "id": "8dd187a9",
   "metadata": {
    "scrolled": false
   },
   "outputs": [
    {
     "name": "stdout",
     "output_type": "stream",
     "text": [
      "[\"Narendra Modi security breach: 'PM is God, I am his diehard fan' - Karnataka youth who tried to garland Prime Minister\", \"Great opportunity for India to become a major power: India's G-20 Sherpa Amitabh Kant\", \"Tamil Nadu BJP president K Annamalai to get 'Z' security\", \"Experiences of my father Amiya Nath Bose during India's freedom struggle\", \"Air India pee-gate case: 'Lady urinated on herself', accused Shankar Mishra tells court\", 'First look at Ayodhya Ram Temple: 3D stories, grand statues, special stones, what more will make a \"Bhavya Ram Mandir\"?', 'PM Modi flags off ‘world’s longest river cruise’ Ganga Vilas from Varanasi- Why it matters  in 10 points', 'J&K: Train derails in Budgam; no casualties reported', \"Varanasi Tent City FAQ: Here's how to book luxury cottages; check ticket price, facilities, and more...\", 'WATCH: Jammu-Srinagar highway shut due to snowfall, landslide, shooting stones', 'PM Modi inaugurates luxurious Ganga Vilas cruise, tent city in Varanasi', 'Joshimath subsidence: 2 tilting hotels on verge of collapse being razed; stage set for demolitions in sinking holy town', 'Whole Joshimath likely to sink, slipped 5.4 cm in last 7 days: shows ISRO satellite images', 'Radiation technologies to boost crop productivity, food security, sustainability: Experts', \"Kashi Tent City: PM set to inaugurate luxurious tourist delight in India's spiritual capital Varanasi\", 'Major Jasmine Chattha leads parade as Indian peacekeepers receive UN medals for outstanding service in South Sudan', \"'He strengthened the politics of equality': Political India pays homage to 'socialist stalwart' Sharad Yadav\", 'Panama Papers leak: Central American nation minister assures aid to Indian probe', 'Live Updates', 'LIVE Breaking News January 13, 2023: Amit Shah chairs high level security review meeting in Jammu, NIA & Jammu Police to investigate terror incidents', 'Snowfall likely in Himachal Pradesh, Uttarakhand today; IMD predicts cold wave in Delhi, northwest India next week', 'Indian woman accuses Pakistan High Commission staffer of demanding sexual favours: Islamabad responds to allegations']\n"
     ]
    }
   ],
   "source": [
    "## Creating List of News\n",
    "News_India=[]\n",
    "for i in india_news_parser.find_all(\"div\",class_=\"undefined\" ):\n",
    "    v=i.text\n",
    "    News_India.append(v)\n",
    "print(News_India)"
   ]
  },
  {
   "cell_type": "code",
   "execution_count": 6,
   "id": "3a1b8415",
   "metadata": {},
   "outputs": [
    {
     "data": {
      "text/html": [
       "<div>\n",
       "<style scoped>\n",
       "    .dataframe tbody tr th:only-of-type {\n",
       "        vertical-align: middle;\n",
       "    }\n",
       "\n",
       "    .dataframe tbody tr th {\n",
       "        vertical-align: top;\n",
       "    }\n",
       "\n",
       "    .dataframe thead th {\n",
       "        text-align: right;\n",
       "    }\n",
       "</style>\n",
       "<table border=\"1\" class=\"dataframe\">\n",
       "  <thead>\n",
       "    <tr style=\"text-align: right;\">\n",
       "      <th></th>\n",
       "      <th>General_News</th>\n",
       "    </tr>\n",
       "  </thead>\n",
       "  <tbody>\n",
       "    <tr>\n",
       "      <th>0</th>\n",
       "      <td>Narendra Modi security breach: 'PM is God, I a...</td>\n",
       "    </tr>\n",
       "    <tr>\n",
       "      <th>1</th>\n",
       "      <td>Great opportunity for India to become a major ...</td>\n",
       "    </tr>\n",
       "    <tr>\n",
       "      <th>2</th>\n",
       "      <td>Tamil Nadu BJP president K Annamalai to get 'Z...</td>\n",
       "    </tr>\n",
       "    <tr>\n",
       "      <th>3</th>\n",
       "      <td>Experiences of my father Amiya Nath Bose durin...</td>\n",
       "    </tr>\n",
       "    <tr>\n",
       "      <th>4</th>\n",
       "      <td>Air India pee-gate case: 'Lady urinated on her...</td>\n",
       "    </tr>\n",
       "    <tr>\n",
       "      <th>5</th>\n",
       "      <td>First look at Ayodhya Ram Temple: 3D stories, ...</td>\n",
       "    </tr>\n",
       "    <tr>\n",
       "      <th>6</th>\n",
       "      <td>PM Modi flags off ‘world’s longest river cruis...</td>\n",
       "    </tr>\n",
       "    <tr>\n",
       "      <th>7</th>\n",
       "      <td>J&amp;K: Train derails in Budgam; no casualties re...</td>\n",
       "    </tr>\n",
       "    <tr>\n",
       "      <th>8</th>\n",
       "      <td>Varanasi Tent City FAQ: Here's how to book lux...</td>\n",
       "    </tr>\n",
       "    <tr>\n",
       "      <th>9</th>\n",
       "      <td>WATCH: Jammu-Srinagar highway shut due to snow...</td>\n",
       "    </tr>\n",
       "    <tr>\n",
       "      <th>10</th>\n",
       "      <td>PM Modi inaugurates luxurious Ganga Vilas crui...</td>\n",
       "    </tr>\n",
       "    <tr>\n",
       "      <th>11</th>\n",
       "      <td>Joshimath subsidence: 2 tilting hotels on verg...</td>\n",
       "    </tr>\n",
       "    <tr>\n",
       "      <th>12</th>\n",
       "      <td>Whole Joshimath likely to sink, slipped 5.4 cm...</td>\n",
       "    </tr>\n",
       "    <tr>\n",
       "      <th>13</th>\n",
       "      <td>Radiation technologies to boost crop productiv...</td>\n",
       "    </tr>\n",
       "    <tr>\n",
       "      <th>14</th>\n",
       "      <td>Kashi Tent City: PM set to inaugurate luxuriou...</td>\n",
       "    </tr>\n",
       "    <tr>\n",
       "      <th>15</th>\n",
       "      <td>Major Jasmine Chattha leads parade as Indian p...</td>\n",
       "    </tr>\n",
       "    <tr>\n",
       "      <th>16</th>\n",
       "      <td>'He strengthened the politics of equality': Po...</td>\n",
       "    </tr>\n",
       "    <tr>\n",
       "      <th>17</th>\n",
       "      <td>Panama Papers leak: Central American nation mi...</td>\n",
       "    </tr>\n",
       "    <tr>\n",
       "      <th>18</th>\n",
       "      <td>Live Updates</td>\n",
       "    </tr>\n",
       "    <tr>\n",
       "      <th>19</th>\n",
       "      <td>LIVE Breaking News January 13, 2023: Amit Shah...</td>\n",
       "    </tr>\n",
       "    <tr>\n",
       "      <th>20</th>\n",
       "      <td>Snowfall likely in Himachal Pradesh, Uttarakha...</td>\n",
       "    </tr>\n",
       "    <tr>\n",
       "      <th>21</th>\n",
       "      <td>Indian woman accuses Pakistan High Commission ...</td>\n",
       "    </tr>\n",
       "  </tbody>\n",
       "</table>\n",
       "</div>"
      ],
      "text/plain": [
       "                                         General_News\n",
       "0   Narendra Modi security breach: 'PM is God, I a...\n",
       "1   Great opportunity for India to become a major ...\n",
       "2   Tamil Nadu BJP president K Annamalai to get 'Z...\n",
       "3   Experiences of my father Amiya Nath Bose durin...\n",
       "4   Air India pee-gate case: 'Lady urinated on her...\n",
       "5   First look at Ayodhya Ram Temple: 3D stories, ...\n",
       "6   PM Modi flags off ‘world’s longest river cruis...\n",
       "7   J&K: Train derails in Budgam; no casualties re...\n",
       "8   Varanasi Tent City FAQ: Here's how to book lux...\n",
       "9   WATCH: Jammu-Srinagar highway shut due to snow...\n",
       "10  PM Modi inaugurates luxurious Ganga Vilas crui...\n",
       "11  Joshimath subsidence: 2 tilting hotels on verg...\n",
       "12  Whole Joshimath likely to sink, slipped 5.4 cm...\n",
       "13  Radiation technologies to boost crop productiv...\n",
       "14  Kashi Tent City: PM set to inaugurate luxuriou...\n",
       "15  Major Jasmine Chattha leads parade as Indian p...\n",
       "16  'He strengthened the politics of equality': Po...\n",
       "17  Panama Papers leak: Central American nation mi...\n",
       "18                                       Live Updates\n",
       "19  LIVE Breaking News January 13, 2023: Amit Shah...\n",
       "20  Snowfall likely in Himachal Pradesh, Uttarakha...\n",
       "21  Indian woman accuses Pakistan High Commission ..."
      ]
     },
     "execution_count": 6,
     "metadata": {},
     "output_type": "execute_result"
    }
   ],
   "source": [
    "News=pd.DataFrame(News_India, columns=['General_News'])[:22]\n",
    "News"
   ]
  },
  {
   "cell_type": "code",
   "execution_count": null,
   "id": "5afebf27",
   "metadata": {},
   "outputs": [],
   "source": []
  },
  {
   "cell_type": "markdown",
   "id": "ffe7ebf6",
   "metadata": {},
   "source": [
    "### Sport News"
   ]
  },
  {
   "cell_type": "code",
   "execution_count": 7,
   "id": "012266fa",
   "metadata": {},
   "outputs": [
    {
     "data": {
      "text/plain": [
       "<Response [200]>"
      ]
     },
     "execution_count": 7,
     "metadata": {},
     "output_type": "execute_result"
    }
   ],
   "source": [
    "sport_news='https://www.timesnownews.com/sports' ## Sports news\n",
    "sport_news_req=requests.get(sport_news)\n",
    "sport_news_req"
   ]
  },
  {
   "cell_type": "code",
   "execution_count": 8,
   "id": "8239872e",
   "metadata": {},
   "outputs": [],
   "source": [
    "sport_news_content=sport_news_req.content\n",
    "sport_news_parser=BeautifulSoup(sport_news_content, parser=\"html.parser\") ##To create HTML view"
   ]
  },
  {
   "cell_type": "code",
   "execution_count": 9,
   "id": "6aad4ee3",
   "metadata": {},
   "outputs": [
    {
     "name": "stdout",
     "output_type": "stream",
     "text": [
      "[\"'Not gonna travel 6.5 hrs to bat for 3 hrs': Ex-India cricketer reveals unheard story of Rahul Dravid - WATCH\", \"Our first goal is to get through very tough pool: Viren Rasquinha on India's chances at Hockey World Cup\", \"No Pakistan in Hockey WC 2023! Here's the reason why four-time winners are missing from this year's megaevent\", \"KS Bharat ready to fill Rishabh Pant shoes & be a 'marauder like him' as well in Tests against Australia\", \"'If Babar Azam is selfish then...': Saeed Ajmal hits out at Pakistan skipper's critics - WATCH\", \"WATCH: Virat Kohli, Ishan Kishan entertain Eden crowd with stunning dance moves after India's win in 2nd ODI\", 'No Ronaldo! Cristiano snubbed as Lionel Messi, Kylian Mbappe shortlisted for FIFA The Best awards', \"'Virat Kohli is there because...': Gautam Gambhir reacts after star batter fails to fire in 2nd ODI vs SL\", \"Don't say anthing...: Ravindra Jadeja posts cryptic tweet amid long injury layoff\", \"Shastri said 'You have to respect MS': Ex-Ind coach claims Kohli was eager to be white-ball captain in 2016\", 'Mitchell Santner set to lead New Zealand during T20I leg of tour of India', 'Barcelona beat Real Betis on penalties, reach Clasico Super Cup final', \"MSD told Pant 'Dont want to miss my last bus ride': R Sridhar makes stunning MS Dhoni retirement revelation\", \"'Mujhe bada hi karna padega...': Prithvi Shaw's coach recalls his words before the start of domestic season\", \"'Surya ke to hum batting coach hain, ab...': Chahal's hilarious reply to Kuldeep Yadav's praise goes viral - WATCH\", \"'Not gonna travel 6.5 hrs to bat for 3 hrs': Ex-India cricketer reveals unheard story of Rahul Dravid - WATCH\", 'More from Cricket ', \"Graham Potter's misery mounts as Fulham beat Chelsea after Joao Felix red card\", 'Barcelona beat Real Betis on penalties, reach Clasico Super Cup final', \"Lionel Messi vs Cristiano Ronaldo in Saudi Arabia? Al-Nassr's rival club looking to sign WC winner: Report\", 'Thibaut Courtois heroics help Madrid beat Valencia to reach Super Cup final', 'More from Football ', 'WWE Raw results: Austin Theory stuns Seth Rollins to retain US Championship; Belair defeats Bliss', 'WWE Smackdown complete results: John Cena makes a winning return; Charlotte Flair dethrones Ronda Rousey', \"2217 matches, 1756 wins: Looking at John Cena's insane records as WWE legend returns to Smackdown\", 'More from WWE ', \"Go and enjoy yourself, we all are backing you: Virat Kohli leads wishes for Indian men's hockey team\", \"Our first goal is to get through very tough pool: Viren Rasquinha on India's chances at Hockey World Cup\", \"No Pakistan in Hockey WC 2023! Here's the reason why four-time winners are missing from this year's mega-event\", 'IND vs ESP Dream 11 prediction: Fantasy tips for India vs Spain Hockey World Cup 2023 Group D game', 'More from Hockey ', 'Badminton Malaysia Open live streaming: When and where to watch Super 1000 event live in India?', 'Saina Nehwal among shuttlers to skip national trials for Asian Mixed Teams Championships', 'Sporting events in 2023: Here are the key badminton tournaments to watch out for', 'Forbes declares PV Sindhu as the 12th highest paid sportswoman in the world in 2022', 'More from Badminton ', 'Two-time champion Naomi Osaka pulls out of Australian Open 2023', 'Sania Mirza confirms retirement plans, will play her final tournament in Dubai next month', 'World No. 1 Carlos Alcaraz to miss Australian Open with leg injury', 'Boris Becker back to work as Australian Open pundit', 'More from Tennis ', \"Sprint legend Michael Johnson in awe of Neeraj Chopra's athleticism, shares two videos from his training\", \"Neeraj Chopra ends Usain Bolt's years of dominance, emerges as most written-about track and field athlete in 2022\", 'Kenyan Olympic gold medallist David Rudisha survives scary plane crash', 'Back at the stadium where it all changed: Neeraj Chopra returns to Tokyo; recreates Olympic gold throw - watch', 'More from Athletics ']\n"
     ]
    }
   ],
   "source": [
    "## Creating List of News\n",
    "News_Sports=[]\n",
    "for i in sport_news_parser.find_all(\"div\",class_=\"undefined\" ):\n",
    "    v=i.text\n",
    "    News_Sports.append(v)\n",
    "print(News_Sports)"
   ]
  },
  {
   "cell_type": "code",
   "execution_count": 12,
   "id": "79ea62ff",
   "metadata": {
    "scrolled": false
   },
   "outputs": [
    {
     "data": {
      "text/html": [
       "<div>\n",
       "<style scoped>\n",
       "    .dataframe tbody tr th:only-of-type {\n",
       "        vertical-align: middle;\n",
       "    }\n",
       "\n",
       "    .dataframe tbody tr th {\n",
       "        vertical-align: top;\n",
       "    }\n",
       "\n",
       "    .dataframe thead th {\n",
       "        text-align: right;\n",
       "    }\n",
       "</style>\n",
       "<table border=\"1\" class=\"dataframe\">\n",
       "  <thead>\n",
       "    <tr style=\"text-align: right;\">\n",
       "      <th></th>\n",
       "      <th>General_News</th>\n",
       "      <th>Sports_News</th>\n",
       "    </tr>\n",
       "  </thead>\n",
       "  <tbody>\n",
       "    <tr>\n",
       "      <th>0</th>\n",
       "      <td>Narendra Modi security breach: 'PM is God, I a...</td>\n",
       "      <td>'Not gonna travel 6.5 hrs to bat for 3 hrs': E...</td>\n",
       "    </tr>\n",
       "    <tr>\n",
       "      <th>1</th>\n",
       "      <td>Great opportunity for India to become a major ...</td>\n",
       "      <td>Our first goal is to get through very tough po...</td>\n",
       "    </tr>\n",
       "    <tr>\n",
       "      <th>2</th>\n",
       "      <td>Tamil Nadu BJP president K Annamalai to get 'Z...</td>\n",
       "      <td>No Pakistan in Hockey WC 2023! Here's the reas...</td>\n",
       "    </tr>\n",
       "    <tr>\n",
       "      <th>3</th>\n",
       "      <td>Experiences of my father Amiya Nath Bose durin...</td>\n",
       "      <td>KS Bharat ready to fill Rishabh Pant shoes &amp; b...</td>\n",
       "    </tr>\n",
       "    <tr>\n",
       "      <th>4</th>\n",
       "      <td>Air India pee-gate case: 'Lady urinated on her...</td>\n",
       "      <td>'If Babar Azam is selfish then...': Saeed Ajma...</td>\n",
       "    </tr>\n",
       "    <tr>\n",
       "      <th>5</th>\n",
       "      <td>First look at Ayodhya Ram Temple: 3D stories, ...</td>\n",
       "      <td>WATCH: Virat Kohli, Ishan Kishan entertain Ede...</td>\n",
       "    </tr>\n",
       "    <tr>\n",
       "      <th>6</th>\n",
       "      <td>PM Modi flags off ‘world’s longest river cruis...</td>\n",
       "      <td>No Ronaldo! Cristiano snubbed as Lionel Messi,...</td>\n",
       "    </tr>\n",
       "    <tr>\n",
       "      <th>7</th>\n",
       "      <td>J&amp;K: Train derails in Budgam; no casualties re...</td>\n",
       "      <td>'Virat Kohli is there because...': Gautam Gamb...</td>\n",
       "    </tr>\n",
       "    <tr>\n",
       "      <th>8</th>\n",
       "      <td>Varanasi Tent City FAQ: Here's how to book lux...</td>\n",
       "      <td>Don't say anthing...: Ravindra Jadeja posts cr...</td>\n",
       "    </tr>\n",
       "    <tr>\n",
       "      <th>9</th>\n",
       "      <td>WATCH: Jammu-Srinagar highway shut due to snow...</td>\n",
       "      <td>Shastri said 'You have to respect MS': Ex-Ind ...</td>\n",
       "    </tr>\n",
       "    <tr>\n",
       "      <th>10</th>\n",
       "      <td>PM Modi inaugurates luxurious Ganga Vilas crui...</td>\n",
       "      <td>Mitchell Santner set to lead New Zealand durin...</td>\n",
       "    </tr>\n",
       "    <tr>\n",
       "      <th>11</th>\n",
       "      <td>Joshimath subsidence: 2 tilting hotels on verg...</td>\n",
       "      <td>Barcelona beat Real Betis on penalties, reach ...</td>\n",
       "    </tr>\n",
       "    <tr>\n",
       "      <th>12</th>\n",
       "      <td>Whole Joshimath likely to sink, slipped 5.4 cm...</td>\n",
       "      <td>MSD told Pant 'Dont want to miss my last bus r...</td>\n",
       "    </tr>\n",
       "    <tr>\n",
       "      <th>13</th>\n",
       "      <td>Radiation technologies to boost crop productiv...</td>\n",
       "      <td>'Mujhe bada hi karna padega...': Prithvi Shaw'...</td>\n",
       "    </tr>\n",
       "    <tr>\n",
       "      <th>14</th>\n",
       "      <td>Kashi Tent City: PM set to inaugurate luxuriou...</td>\n",
       "      <td>'Surya ke to hum batting coach hain, ab...': C...</td>\n",
       "    </tr>\n",
       "    <tr>\n",
       "      <th>15</th>\n",
       "      <td>Major Jasmine Chattha leads parade as Indian p...</td>\n",
       "      <td>'Not gonna travel 6.5 hrs to bat for 3 hrs': E...</td>\n",
       "    </tr>\n",
       "    <tr>\n",
       "      <th>16</th>\n",
       "      <td>'He strengthened the politics of equality': Po...</td>\n",
       "      <td>More from Cricket</td>\n",
       "    </tr>\n",
       "    <tr>\n",
       "      <th>17</th>\n",
       "      <td>Panama Papers leak: Central American nation mi...</td>\n",
       "      <td>Graham Potter's misery mounts as Fulham beat C...</td>\n",
       "    </tr>\n",
       "    <tr>\n",
       "      <th>18</th>\n",
       "      <td>Live Updates</td>\n",
       "      <td>Barcelona beat Real Betis on penalties, reach ...</td>\n",
       "    </tr>\n",
       "    <tr>\n",
       "      <th>19</th>\n",
       "      <td>LIVE Breaking News January 13, 2023: Amit Shah...</td>\n",
       "      <td>Lionel Messi vs Cristiano Ronaldo in Saudi Ara...</td>\n",
       "    </tr>\n",
       "    <tr>\n",
       "      <th>20</th>\n",
       "      <td>Snowfall likely in Himachal Pradesh, Uttarakha...</td>\n",
       "      <td>Thibaut Courtois heroics help Madrid beat Vale...</td>\n",
       "    </tr>\n",
       "    <tr>\n",
       "      <th>21</th>\n",
       "      <td>Indian woman accuses Pakistan High Commission ...</td>\n",
       "      <td>More from Football</td>\n",
       "    </tr>\n",
       "  </tbody>\n",
       "</table>\n",
       "</div>"
      ],
      "text/plain": [
       "                                         General_News  \\\n",
       "0   Narendra Modi security breach: 'PM is God, I a...   \n",
       "1   Great opportunity for India to become a major ...   \n",
       "2   Tamil Nadu BJP president K Annamalai to get 'Z...   \n",
       "3   Experiences of my father Amiya Nath Bose durin...   \n",
       "4   Air India pee-gate case: 'Lady urinated on her...   \n",
       "5   First look at Ayodhya Ram Temple: 3D stories, ...   \n",
       "6   PM Modi flags off ‘world’s longest river cruis...   \n",
       "7   J&K: Train derails in Budgam; no casualties re...   \n",
       "8   Varanasi Tent City FAQ: Here's how to book lux...   \n",
       "9   WATCH: Jammu-Srinagar highway shut due to snow...   \n",
       "10  PM Modi inaugurates luxurious Ganga Vilas crui...   \n",
       "11  Joshimath subsidence: 2 tilting hotels on verg...   \n",
       "12  Whole Joshimath likely to sink, slipped 5.4 cm...   \n",
       "13  Radiation technologies to boost crop productiv...   \n",
       "14  Kashi Tent City: PM set to inaugurate luxuriou...   \n",
       "15  Major Jasmine Chattha leads parade as Indian p...   \n",
       "16  'He strengthened the politics of equality': Po...   \n",
       "17  Panama Papers leak: Central American nation mi...   \n",
       "18                                       Live Updates   \n",
       "19  LIVE Breaking News January 13, 2023: Amit Shah...   \n",
       "20  Snowfall likely in Himachal Pradesh, Uttarakha...   \n",
       "21  Indian woman accuses Pakistan High Commission ...   \n",
       "\n",
       "                                          Sports_News  \n",
       "0   'Not gonna travel 6.5 hrs to bat for 3 hrs': E...  \n",
       "1   Our first goal is to get through very tough po...  \n",
       "2   No Pakistan in Hockey WC 2023! Here's the reas...  \n",
       "3   KS Bharat ready to fill Rishabh Pant shoes & b...  \n",
       "4   'If Babar Azam is selfish then...': Saeed Ajma...  \n",
       "5   WATCH: Virat Kohli, Ishan Kishan entertain Ede...  \n",
       "6   No Ronaldo! Cristiano snubbed as Lionel Messi,...  \n",
       "7   'Virat Kohli is there because...': Gautam Gamb...  \n",
       "8   Don't say anthing...: Ravindra Jadeja posts cr...  \n",
       "9   Shastri said 'You have to respect MS': Ex-Ind ...  \n",
       "10  Mitchell Santner set to lead New Zealand durin...  \n",
       "11  Barcelona beat Real Betis on penalties, reach ...  \n",
       "12  MSD told Pant 'Dont want to miss my last bus r...  \n",
       "13  'Mujhe bada hi karna padega...': Prithvi Shaw'...  \n",
       "14  'Surya ke to hum batting coach hain, ab...': C...  \n",
       "15  'Not gonna travel 6.5 hrs to bat for 3 hrs': E...  \n",
       "16                                 More from Cricket   \n",
       "17  Graham Potter's misery mounts as Fulham beat C...  \n",
       "18  Barcelona beat Real Betis on penalties, reach ...  \n",
       "19  Lionel Messi vs Cristiano Ronaldo in Saudi Ara...  \n",
       "20  Thibaut Courtois heroics help Madrid beat Vale...  \n",
       "21                                More from Football   "
      ]
     },
     "execution_count": 12,
     "metadata": {},
     "output_type": "execute_result"
    }
   ],
   "source": [
    "sport=pd.DataFrame(News_Sports, columns=['Sports_News'])[:22]\n",
    "News['Sports_News']=sport['Sports_News']\n",
    "News"
   ]
  },
  {
   "cell_type": "code",
   "execution_count": null,
   "id": "93424faa",
   "metadata": {},
   "outputs": [],
   "source": []
  },
  {
   "cell_type": "markdown",
   "id": "97b51c56",
   "metadata": {},
   "source": [
    "### Business News"
   ]
  },
  {
   "cell_type": "code",
   "execution_count": 13,
   "id": "55f3b3e5",
   "metadata": {},
   "outputs": [
    {
     "data": {
      "text/plain": [
       "<Response [200]>"
      ]
     },
     "execution_count": 13,
     "metadata": {},
     "output_type": "execute_result"
    }
   ],
   "source": [
    "news_buss='https://www.timesnownews.com/business-economy'\n",
    "news_buss_req=requests.get(news_buss)\n",
    "news_buss_req"
   ]
  },
  {
   "cell_type": "code",
   "execution_count": 14,
   "id": "2750abdc",
   "metadata": {},
   "outputs": [
    {
     "name": "stdout",
     "output_type": "stream",
     "text": [
      "['Oil poised for robust weekly gain on China demand hopes', 'Wipro dividend 2023: IT major to announce Q3 earnings, may declare dividend - things you should know', 'MV Ganga Vilas sets sail – How do cruises make profits despite huge expenses?', \"Big boost for India-Russia trade: Russia's second largest bank VTB launches direct payments in Rupees\", 'Sensex reverses early losses to end 300 points higher led by metal, PSU banks; Jet Airways up 5%', 'Gold hits fresh high of Rs 56,245 per 10 grams on MCX - Know the reasons behind the rise', 'Market Fatafat - Stocks buzzing in trade today', \"China's 2023 inflation to remain mild, People's Bank of China to avoid 'flooding economy with stimulus'\", 'HDFC Bank Quarterly Results: Q3 FY2023 earnings announcement Date, Time | Preview, Expectations', 'Budget 2023: Deloitte India’s Amrish Shah shares wishlist with ET Now', 'Despite big age difference, Bill Gates and Warren Buffet continue to be good friends; still play bridge', 'BCL Industries approves issuance of over 55 lakh convertible bonds at Rs 360 - Check face value', 'MV Ganga Vilas sets sail – How do cruises make profits despite huge expenses?', \"Big boost for India-Russia trade: Russia's second largest bank VTB launches direct payments in Rupees\", \"China's 2023 inflation to remain mild, People's Bank of China to avoid 'flooding economy with stimulus'\", 'Budget 2023: Deloitte India’s Amrish Shah shares wishlist with ET Now', 'More from Economy ', 'Gold Price Today: 13 Jan 2023 - Check latest rates in your city', \"India's UPI Goes Global\", 'Budget 2023 Income Tax: Expectations - Will salaried individuals get good news from FM Nirmala Sitharaman?', 'PAN card to be one ID for all business processes? – Details inside', 'More from Personal Finance ', 'Sensex reverses early losses to end 300 points higher led by metal, PSU banks; Jet Airways up 5%', 'Market Fatafat - Stocks buzzing in trade today', 'Sensex, Nifty start in red even as inflation eases in December; Infosys, HCL Tech decline post Q3 results', 'Stock Market Essentials For January 13', 'More from Markets ', 'Wipro dividend 2023: IT major to announce Q3 earnings, may declare dividend - things you should know', 'Jet Airways share price zooms 5% after NCLT allows Jalan-Kalrock to take control of airline', 'HDFC Bank Quarterly Results: Q3 FY2023 earnings announcement Date, Time | Preview, Expectations', 'Despite big age difference, Bill Gates and Warren Buffet continue to be good friends; still play bridge', 'More from Companies ', 'DNA Jewellery Shark Tank: Ornaments made of breast milk, teeth, hair left judges ‘disgusted’; netizens slam sharks', 'Bank strike: Banking services to be affected on these 2 days; details here', 'Shark Tank India 2: Sharks fight over equity in Nestroots; Namita Thapar Anupam Mittal to keep ego in check, walks out', 'Business travel to US may ease soon as India asks for speedy issuance of B-1 visas', 'More from Industry ', 'Residential housing sales in top 7 cities touch decade-high of 215,000 units despite high rates: JLL', 'In which Indian states are people from outside restricted from buying land? Check state names, other details', 'Foreigners banned from buying residential property in Canada for 2 years; details here', 'Noida Authority directs DLF to pay Rs 235 crore for Mall of India land', 'More from Real Estate ']\n"
     ]
    }
   ],
   "source": [
    "news_buss_parser=BeautifulSoup(news_buss_req.content, parser=\"html.parser\") # HTML view\n",
    "\n",
    "#Creating list of Content\n",
    "News_Business=[]\n",
    "for i in news_buss_parser.find_all(\"div\", class_=\"undefined\"):\n",
    "    v=i.text\n",
    "    News_Business.append(v)\n",
    "print(News_Business)"
   ]
  },
  {
   "cell_type": "code",
   "execution_count": 22,
   "id": "203ac8fa",
   "metadata": {},
   "outputs": [
    {
     "data": {
      "text/html": [
       "<div>\n",
       "<style scoped>\n",
       "    .dataframe tbody tr th:only-of-type {\n",
       "        vertical-align: middle;\n",
       "    }\n",
       "\n",
       "    .dataframe tbody tr th {\n",
       "        vertical-align: top;\n",
       "    }\n",
       "\n",
       "    .dataframe thead th {\n",
       "        text-align: right;\n",
       "    }\n",
       "</style>\n",
       "<table border=\"1\" class=\"dataframe\">\n",
       "  <thead>\n",
       "    <tr style=\"text-align: right;\">\n",
       "      <th></th>\n",
       "      <th>General_News</th>\n",
       "      <th>Sports_News</th>\n",
       "      <th>Business_News</th>\n",
       "    </tr>\n",
       "  </thead>\n",
       "  <tbody>\n",
       "    <tr>\n",
       "      <th>0</th>\n",
       "      <td>Narendra Modi security breach: 'PM is God, I am his diehard fan' - Karnataka youth who tried to garland Prime Minister</td>\n",
       "      <td>'Not gonna travel 6.5 hrs to bat for 3 hrs': Ex-India cricketer reveals unheard story of Rahul Dravid - WATCH</td>\n",
       "      <td>Oil poised for robust weekly gain on China demand hopes</td>\n",
       "    </tr>\n",
       "    <tr>\n",
       "      <th>1</th>\n",
       "      <td>Great opportunity for India to become a major power: India's G-20 Sherpa Amitabh Kant</td>\n",
       "      <td>Our first goal is to get through very tough pool: Viren Rasquinha on India's chances at Hockey World Cup</td>\n",
       "      <td>Wipro dividend 2023: IT major to announce Q3 earnings, may declare dividend - things you should know</td>\n",
       "    </tr>\n",
       "    <tr>\n",
       "      <th>2</th>\n",
       "      <td>Tamil Nadu BJP president K Annamalai to get 'Z' security</td>\n",
       "      <td>No Pakistan in Hockey WC 2023! Here's the reason why four-time winners are missing from this year's megaevent</td>\n",
       "      <td>MV Ganga Vilas sets sail – How do cruises make profits despite huge expenses?</td>\n",
       "    </tr>\n",
       "    <tr>\n",
       "      <th>3</th>\n",
       "      <td>Experiences of my father Amiya Nath Bose during India's freedom struggle</td>\n",
       "      <td>KS Bharat ready to fill Rishabh Pant shoes &amp; be a 'marauder like him' as well in Tests against Australia</td>\n",
       "      <td>Big boost for India-Russia trade: Russia's second largest bank VTB launches direct payments in Rupees</td>\n",
       "    </tr>\n",
       "    <tr>\n",
       "      <th>4</th>\n",
       "      <td>Air India pee-gate case: 'Lady urinated on herself', accused Shankar Mishra tells court</td>\n",
       "      <td>'If Babar Azam is selfish then...': Saeed Ajmal hits out at Pakistan skipper's critics - WATCH</td>\n",
       "      <td>Sensex reverses early losses to end 300 points higher led by metal, PSU banks; Jet Airways up 5%</td>\n",
       "    </tr>\n",
       "    <tr>\n",
       "      <th>5</th>\n",
       "      <td>First look at Ayodhya Ram Temple: 3D stories, grand statues, special stones, what more will make a \"Bhavya Ram Mandir\"?</td>\n",
       "      <td>WATCH: Virat Kohli, Ishan Kishan entertain Eden crowd with stunning dance moves after India's win in 2nd ODI</td>\n",
       "      <td>Gold hits fresh high of Rs 56,245 per 10 grams on MCX - Know the reasons behind the rise</td>\n",
       "    </tr>\n",
       "    <tr>\n",
       "      <th>6</th>\n",
       "      <td>PM Modi flags off ‘world’s longest river cruise’ Ganga Vilas from Varanasi- Why it matters  in 10 points</td>\n",
       "      <td>No Ronaldo! Cristiano snubbed as Lionel Messi, Kylian Mbappe shortlisted for FIFA The Best awards</td>\n",
       "      <td>Market Fatafat - Stocks buzzing in trade today</td>\n",
       "    </tr>\n",
       "    <tr>\n",
       "      <th>7</th>\n",
       "      <td>J&amp;K: Train derails in Budgam; no casualties reported</td>\n",
       "      <td>'Virat Kohli is there because...': Gautam Gambhir reacts after star batter fails to fire in 2nd ODI vs SL</td>\n",
       "      <td>China's 2023 inflation to remain mild, People's Bank of China to avoid 'flooding economy with stimulus'</td>\n",
       "    </tr>\n",
       "    <tr>\n",
       "      <th>8</th>\n",
       "      <td>Varanasi Tent City FAQ: Here's how to book luxury cottages; check ticket price, facilities, and more...</td>\n",
       "      <td>Don't say anthing...: Ravindra Jadeja posts cryptic tweet amid long injury layoff</td>\n",
       "      <td>HDFC Bank Quarterly Results: Q3 FY2023 earnings announcement Date, Time | Preview, Expectations</td>\n",
       "    </tr>\n",
       "    <tr>\n",
       "      <th>9</th>\n",
       "      <td>WATCH: Jammu-Srinagar highway shut due to snowfall, landslide, shooting stones</td>\n",
       "      <td>Shastri said 'You have to respect MS': Ex-Ind coach claims Kohli was eager to be white-ball captain in 2016</td>\n",
       "      <td>Budget 2023: Deloitte India’s Amrish Shah shares wishlist with ET Now</td>\n",
       "    </tr>\n",
       "    <tr>\n",
       "      <th>10</th>\n",
       "      <td>PM Modi inaugurates luxurious Ganga Vilas cruise, tent city in Varanasi</td>\n",
       "      <td>Mitchell Santner set to lead New Zealand during T20I leg of tour of India</td>\n",
       "      <td>Despite big age difference, Bill Gates and Warren Buffet continue to be good friends; still play bridge</td>\n",
       "    </tr>\n",
       "    <tr>\n",
       "      <th>11</th>\n",
       "      <td>Joshimath subsidence: 2 tilting hotels on verge of collapse being razed; stage set for demolitions in sinking holy town</td>\n",
       "      <td>Barcelona beat Real Betis on penalties, reach Clasico Super Cup final</td>\n",
       "      <td>BCL Industries approves issuance of over 55 lakh convertible bonds at Rs 360 - Check face value</td>\n",
       "    </tr>\n",
       "    <tr>\n",
       "      <th>12</th>\n",
       "      <td>Whole Joshimath likely to sink, slipped 5.4 cm in last 7 days: shows ISRO satellite images</td>\n",
       "      <td>MSD told Pant 'Dont want to miss my last bus ride': R Sridhar makes stunning MS Dhoni retirement revelation</td>\n",
       "      <td>MV Ganga Vilas sets sail – How do cruises make profits despite huge expenses?</td>\n",
       "    </tr>\n",
       "    <tr>\n",
       "      <th>13</th>\n",
       "      <td>Radiation technologies to boost crop productivity, food security, sustainability: Experts</td>\n",
       "      <td>'Mujhe bada hi karna padega...': Prithvi Shaw's coach recalls his words before the start of domestic season</td>\n",
       "      <td>Big boost for India-Russia trade: Russia's second largest bank VTB launches direct payments in Rupees</td>\n",
       "    </tr>\n",
       "    <tr>\n",
       "      <th>14</th>\n",
       "      <td>Kashi Tent City: PM set to inaugurate luxurious tourist delight in India's spiritual capital Varanasi</td>\n",
       "      <td>'Surya ke to hum batting coach hain, ab...': Chahal's hilarious reply to Kuldeep Yadav's praise goes viral - WATCH</td>\n",
       "      <td>China's 2023 inflation to remain mild, People's Bank of China to avoid 'flooding economy with stimulus'</td>\n",
       "    </tr>\n",
       "    <tr>\n",
       "      <th>15</th>\n",
       "      <td>Major Jasmine Chattha leads parade as Indian peacekeepers receive UN medals for outstanding service in South Sudan</td>\n",
       "      <td>'Not gonna travel 6.5 hrs to bat for 3 hrs': Ex-India cricketer reveals unheard story of Rahul Dravid - WATCH</td>\n",
       "      <td>Budget 2023: Deloitte India’s Amrish Shah shares wishlist with ET Now</td>\n",
       "    </tr>\n",
       "    <tr>\n",
       "      <th>16</th>\n",
       "      <td>'He strengthened the politics of equality': Political India pays homage to 'socialist stalwart' Sharad Yadav</td>\n",
       "      <td>More from Cricket</td>\n",
       "      <td>More from Economy</td>\n",
       "    </tr>\n",
       "    <tr>\n",
       "      <th>17</th>\n",
       "      <td>Panama Papers leak: Central American nation minister assures aid to Indian probe</td>\n",
       "      <td>Graham Potter's misery mounts as Fulham beat Chelsea after Joao Felix red card</td>\n",
       "      <td>Gold Price Today: 13 Jan 2023 - Check latest rates in your city</td>\n",
       "    </tr>\n",
       "    <tr>\n",
       "      <th>18</th>\n",
       "      <td>Live Updates</td>\n",
       "      <td>Barcelona beat Real Betis on penalties, reach Clasico Super Cup final</td>\n",
       "      <td>India's UPI Goes Global</td>\n",
       "    </tr>\n",
       "    <tr>\n",
       "      <th>19</th>\n",
       "      <td>LIVE Breaking News January 13, 2023: Amit Shah chairs high level security review meeting in Jammu, NIA &amp; Jammu Police to investigate terror incidents</td>\n",
       "      <td>Lionel Messi vs Cristiano Ronaldo in Saudi Arabia? Al-Nassr's rival club looking to sign WC winner: Report</td>\n",
       "      <td>Budget 2023 Income Tax: Expectations - Will salaried individuals get good news from FM Nirmala Sitharaman?</td>\n",
       "    </tr>\n",
       "    <tr>\n",
       "      <th>20</th>\n",
       "      <td>Snowfall likely in Himachal Pradesh, Uttarakhand today; IMD predicts cold wave in Delhi, northwest India next week</td>\n",
       "      <td>Thibaut Courtois heroics help Madrid beat Valencia to reach Super Cup final</td>\n",
       "      <td>PAN card to be one ID for all business processes? – Details inside</td>\n",
       "    </tr>\n",
       "    <tr>\n",
       "      <th>21</th>\n",
       "      <td>Indian woman accuses Pakistan High Commission staffer of demanding sexual favours: Islamabad responds to allegations</td>\n",
       "      <td>More from Football</td>\n",
       "      <td>More from Personal Finance</td>\n",
       "    </tr>\n",
       "  </tbody>\n",
       "</table>\n",
       "</div>"
      ],
      "text/plain": [
       "                                                                                                                                             General_News  \\\n",
       "0                                  Narendra Modi security breach: 'PM is God, I am his diehard fan' - Karnataka youth who tried to garland Prime Minister   \n",
       "1                                                                   Great opportunity for India to become a major power: India's G-20 Sherpa Amitabh Kant   \n",
       "2                                                                                                Tamil Nadu BJP president K Annamalai to get 'Z' security   \n",
       "3                                                                                Experiences of my father Amiya Nath Bose during India's freedom struggle   \n",
       "4                                                                 Air India pee-gate case: 'Lady urinated on herself', accused Shankar Mishra tells court   \n",
       "5                                 First look at Ayodhya Ram Temple: 3D stories, grand statues, special stones, what more will make a \"Bhavya Ram Mandir\"?   \n",
       "6                                                PM Modi flags off ‘world’s longest river cruise’ Ganga Vilas from Varanasi- Why it matters  in 10 points   \n",
       "7                                                                                                    J&K: Train derails in Budgam; no casualties reported   \n",
       "8                                                 Varanasi Tent City FAQ: Here's how to book luxury cottages; check ticket price, facilities, and more...   \n",
       "9                                                                          WATCH: Jammu-Srinagar highway shut due to snowfall, landslide, shooting stones   \n",
       "10                                                                                PM Modi inaugurates luxurious Ganga Vilas cruise, tent city in Varanasi   \n",
       "11                                Joshimath subsidence: 2 tilting hotels on verge of collapse being razed; stage set for demolitions in sinking holy town   \n",
       "12                                                             Whole Joshimath likely to sink, slipped 5.4 cm in last 7 days: shows ISRO satellite images   \n",
       "13                                                              Radiation technologies to boost crop productivity, food security, sustainability: Experts   \n",
       "14                                                  Kashi Tent City: PM set to inaugurate luxurious tourist delight in India's spiritual capital Varanasi   \n",
       "15                                     Major Jasmine Chattha leads parade as Indian peacekeepers receive UN medals for outstanding service in South Sudan   \n",
       "16                                           'He strengthened the politics of equality': Political India pays homage to 'socialist stalwart' Sharad Yadav   \n",
       "17                                                                       Panama Papers leak: Central American nation minister assures aid to Indian probe   \n",
       "18                                                                                                                                           Live Updates   \n",
       "19  LIVE Breaking News January 13, 2023: Amit Shah chairs high level security review meeting in Jammu, NIA & Jammu Police to investigate terror incidents   \n",
       "20                                     Snowfall likely in Himachal Pradesh, Uttarakhand today; IMD predicts cold wave in Delhi, northwest India next week   \n",
       "21                                   Indian woman accuses Pakistan High Commission staffer of demanding sexual favours: Islamabad responds to allegations   \n",
       "\n",
       "                                                                                                           Sports_News  \\\n",
       "0        'Not gonna travel 6.5 hrs to bat for 3 hrs': Ex-India cricketer reveals unheard story of Rahul Dravid - WATCH   \n",
       "1             Our first goal is to get through very tough pool: Viren Rasquinha on India's chances at Hockey World Cup   \n",
       "2        No Pakistan in Hockey WC 2023! Here's the reason why four-time winners are missing from this year's megaevent   \n",
       "3             KS Bharat ready to fill Rishabh Pant shoes & be a 'marauder like him' as well in Tests against Australia   \n",
       "4                       'If Babar Azam is selfish then...': Saeed Ajmal hits out at Pakistan skipper's critics - WATCH   \n",
       "5         WATCH: Virat Kohli, Ishan Kishan entertain Eden crowd with stunning dance moves after India's win in 2nd ODI   \n",
       "6                    No Ronaldo! Cristiano snubbed as Lionel Messi, Kylian Mbappe shortlisted for FIFA The Best awards   \n",
       "7            'Virat Kohli is there because...': Gautam Gambhir reacts after star batter fails to fire in 2nd ODI vs SL   \n",
       "8                                    Don't say anthing...: Ravindra Jadeja posts cryptic tweet amid long injury layoff   \n",
       "9          Shastri said 'You have to respect MS': Ex-Ind coach claims Kohli was eager to be white-ball captain in 2016   \n",
       "10                                           Mitchell Santner set to lead New Zealand during T20I leg of tour of India   \n",
       "11                                               Barcelona beat Real Betis on penalties, reach Clasico Super Cup final   \n",
       "12         MSD told Pant 'Dont want to miss my last bus ride': R Sridhar makes stunning MS Dhoni retirement revelation   \n",
       "13         'Mujhe bada hi karna padega...': Prithvi Shaw's coach recalls his words before the start of domestic season   \n",
       "14  'Surya ke to hum batting coach hain, ab...': Chahal's hilarious reply to Kuldeep Yadav's praise goes viral - WATCH   \n",
       "15       'Not gonna travel 6.5 hrs to bat for 3 hrs': Ex-India cricketer reveals unheard story of Rahul Dravid - WATCH   \n",
       "16                                                                                                  More from Cricket    \n",
       "17                                      Graham Potter's misery mounts as Fulham beat Chelsea after Joao Felix red card   \n",
       "18                                               Barcelona beat Real Betis on penalties, reach Clasico Super Cup final   \n",
       "19          Lionel Messi vs Cristiano Ronaldo in Saudi Arabia? Al-Nassr's rival club looking to sign WC winner: Report   \n",
       "20                                         Thibaut Courtois heroics help Madrid beat Valencia to reach Super Cup final   \n",
       "21                                                                                                 More from Football    \n",
       "\n",
       "                                                                                                 Business_News  \n",
       "0                                                      Oil poised for robust weekly gain on China demand hopes  \n",
       "1         Wipro dividend 2023: IT major to announce Q3 earnings, may declare dividend - things you should know  \n",
       "2                                MV Ganga Vilas sets sail – How do cruises make profits despite huge expenses?  \n",
       "3        Big boost for India-Russia trade: Russia's second largest bank VTB launches direct payments in Rupees  \n",
       "4             Sensex reverses early losses to end 300 points higher led by metal, PSU banks; Jet Airways up 5%  \n",
       "5                     Gold hits fresh high of Rs 56,245 per 10 grams on MCX - Know the reasons behind the rise  \n",
       "6                                                               Market Fatafat - Stocks buzzing in trade today  \n",
       "7      China's 2023 inflation to remain mild, People's Bank of China to avoid 'flooding economy with stimulus'  \n",
       "8              HDFC Bank Quarterly Results: Q3 FY2023 earnings announcement Date, Time | Preview, Expectations  \n",
       "9                                        Budget 2023: Deloitte India’s Amrish Shah shares wishlist with ET Now  \n",
       "10     Despite big age difference, Bill Gates and Warren Buffet continue to be good friends; still play bridge  \n",
       "11             BCL Industries approves issuance of over 55 lakh convertible bonds at Rs 360 - Check face value  \n",
       "12                               MV Ganga Vilas sets sail – How do cruises make profits despite huge expenses?  \n",
       "13       Big boost for India-Russia trade: Russia's second largest bank VTB launches direct payments in Rupees  \n",
       "14     China's 2023 inflation to remain mild, People's Bank of China to avoid 'flooding economy with stimulus'  \n",
       "15                                       Budget 2023: Deloitte India’s Amrish Shah shares wishlist with ET Now  \n",
       "16                                                                                          More from Economy   \n",
       "17                                             Gold Price Today: 13 Jan 2023 - Check latest rates in your city  \n",
       "18                                                                                     India's UPI Goes Global  \n",
       "19  Budget 2023 Income Tax: Expectations - Will salaried individuals get good news from FM Nirmala Sitharaman?  \n",
       "20                                          PAN card to be one ID for all business processes? – Details inside  \n",
       "21                                                                                 More from Personal Finance   "
      ]
     },
     "execution_count": 22,
     "metadata": {},
     "output_type": "execute_result"
    }
   ],
   "source": [
    "business=pd.DataFrame(News_Business, columns=['Business_News'])[:22]\n",
    "News['Business_News']=business['Business_News']\n",
    "News"
   ]
  },
  {
   "cell_type": "code",
   "execution_count": null,
   "id": "aab9515c",
   "metadata": {},
   "outputs": [],
   "source": []
  },
  {
   "cell_type": "code",
   "execution_count": null,
   "id": "8f12d481",
   "metadata": {},
   "outputs": [],
   "source": []
  },
  {
   "cell_type": "markdown",
   "id": "da3ccca9",
   "metadata": {},
   "source": [
    "## Flipkart"
   ]
  },
  {
   "cell_type": "markdown",
   "id": "9e17f41a",
   "metadata": {},
   "source": [
    "### Flipkart Customers who rated the product"
   ]
  },
  {
   "cell_type": "code",
   "execution_count": 26,
   "id": "cc06f702",
   "metadata": {},
   "outputs": [
    {
     "data": {
      "text/plain": [
       "<Response [200]>"
      ]
     },
     "execution_count": 26,
     "metadata": {},
     "output_type": "execute_result"
    }
   ],
   "source": [
    "flipkart='https://www.flipkart.com/lenovo-celeron-dual-core-4-gb-256-gb-hdd-256-ssd-dos-82c3a00dih-laptop/p/itmb75ac327d555a?pid=COMGEEXTG9GGBKRT&lid=LSTCOMGEEXTG9GGBKRTMKA2ZB&marketplace=FLIPKART&store=6bo%2Fb5g&srno=b_1_5&otracker=browse&otracker1=hp_rich_navigation_PINNED_neo%2Fmerchandising_NA_NAV_EXPANDABLE_navigationCard_cc_8_L1_view-all&fm=organic&iid=d954fdd8-1cad-49d2-bd27-4c2797a99538.COMGEEXTG9GGBKRT.SEARCH&ppt=hp&ppn=homepage&ssid=h012nkpb9c0000001673612683974'\n",
    "flipkart_req=requests.get(flipkart)\n",
    "flipkart_req"
   ]
  },
  {
   "cell_type": "code",
   "execution_count": 29,
   "id": "abaa3b01",
   "metadata": {},
   "outputs": [
    {
     "name": "stdout",
     "output_type": "stream",
     "text": [
      "['Flipkart Customer', 'ROHIT  Kumar', 'Sucharita  Ghosh roy', 'Ashu  sharma', 'Flipkart Customer', 'Flipkart Customer', 'JITENDRA KUMAR  YADAV']\n"
     ]
    }
   ],
   "source": [
    "flipkart_parser=BeautifulSoup(flipkart_req.content, parser='html.parser') #HTML view\n",
    "\n",
    "user=[]\n",
    "for i in flipkart_parser.find_all(\"p\", class_=\"_2sc7ZR _2V5EHH\"):\n",
    "    v=i.text\n",
    "    user.append(v)\n",
    "print(user)"
   ]
  },
  {
   "cell_type": "code",
   "execution_count": 31,
   "id": "c4d953a2",
   "metadata": {},
   "outputs": [
    {
     "data": {
      "text/html": [
       "<div>\n",
       "<style scoped>\n",
       "    .dataframe tbody tr th:only-of-type {\n",
       "        vertical-align: middle;\n",
       "    }\n",
       "\n",
       "    .dataframe tbody tr th {\n",
       "        vertical-align: top;\n",
       "    }\n",
       "\n",
       "    .dataframe thead th {\n",
       "        text-align: right;\n",
       "    }\n",
       "</style>\n",
       "<table border=\"1\" class=\"dataframe\">\n",
       "  <thead>\n",
       "    <tr style=\"text-align: right;\">\n",
       "      <th></th>\n",
       "      <th>Customer_Name</th>\n",
       "    </tr>\n",
       "  </thead>\n",
       "  <tbody>\n",
       "    <tr>\n",
       "      <th>0</th>\n",
       "      <td>Flipkart Customer</td>\n",
       "    </tr>\n",
       "    <tr>\n",
       "      <th>1</th>\n",
       "      <td>ROHIT  Kumar</td>\n",
       "    </tr>\n",
       "    <tr>\n",
       "      <th>2</th>\n",
       "      <td>Sucharita  Ghosh roy</td>\n",
       "    </tr>\n",
       "    <tr>\n",
       "      <th>3</th>\n",
       "      <td>Ashu  sharma</td>\n",
       "    </tr>\n",
       "    <tr>\n",
       "      <th>4</th>\n",
       "      <td>Flipkart Customer</td>\n",
       "    </tr>\n",
       "    <tr>\n",
       "      <th>5</th>\n",
       "      <td>Flipkart Customer</td>\n",
       "    </tr>\n",
       "    <tr>\n",
       "      <th>6</th>\n",
       "      <td>JITENDRA KUMAR  YADAV</td>\n",
       "    </tr>\n",
       "  </tbody>\n",
       "</table>\n",
       "</div>"
      ],
      "text/plain": [
       "           Customer_Name\n",
       "0      Flipkart Customer\n",
       "1           ROHIT  Kumar\n",
       "2   Sucharita  Ghosh roy\n",
       "3           Ashu  sharma\n",
       "4      Flipkart Customer\n",
       "5      Flipkart Customer\n",
       "6  JITENDRA KUMAR  YADAV"
      ]
     },
     "execution_count": 31,
     "metadata": {},
     "output_type": "execute_result"
    }
   ],
   "source": [
    "Flipkart=pd.DataFrame(user, columns=['Customer_Name'])\n",
    "Flipkart"
   ]
  },
  {
   "cell_type": "code",
   "execution_count": null,
   "id": "0abbe646",
   "metadata": {},
   "outputs": [],
   "source": []
  },
  {
   "cell_type": "markdown",
   "id": "a633f38a",
   "metadata": {},
   "source": [
    "### FLipkart product Review by user"
   ]
  },
  {
   "cell_type": "code",
   "execution_count": 33,
   "id": "ef14bda2",
   "metadata": {},
   "outputs": [
    {
     "name": "stdout",
     "output_type": "stream",
     "text": [
      "['Great product', 'Highly recommended', 'Does the job', 'Perfect product!', 'Very Good', 'Bad quality', 'Highly recommended', 'Excellent']\n"
     ]
    }
   ],
   "source": [
    "flipkart_parser_r=BeautifulSoup(flipkart_req_r.content, parser='html.parser') #HTML view\n",
    "\n",
    "review=[]\n",
    "for i in flipkart_parser_r.find_all(\"p\", class_=\"_2-N8zT\"):\n",
    "    v=i.text\n",
    "    review.append(v)\n",
    "print(review)"
   ]
  },
  {
   "cell_type": "code",
   "execution_count": 35,
   "id": "62d4e2df",
   "metadata": {},
   "outputs": [
    {
     "data": {
      "text/html": [
       "<div>\n",
       "<style scoped>\n",
       "    .dataframe tbody tr th:only-of-type {\n",
       "        vertical-align: middle;\n",
       "    }\n",
       "\n",
       "    .dataframe tbody tr th {\n",
       "        vertical-align: top;\n",
       "    }\n",
       "\n",
       "    .dataframe thead th {\n",
       "        text-align: right;\n",
       "    }\n",
       "</style>\n",
       "<table border=\"1\" class=\"dataframe\">\n",
       "  <thead>\n",
       "    <tr style=\"text-align: right;\">\n",
       "      <th></th>\n",
       "      <th>Customer_Name</th>\n",
       "      <th>Reviews</th>\n",
       "    </tr>\n",
       "  </thead>\n",
       "  <tbody>\n",
       "    <tr>\n",
       "      <th>0</th>\n",
       "      <td>Flipkart Customer</td>\n",
       "      <td>Great product</td>\n",
       "    </tr>\n",
       "    <tr>\n",
       "      <th>1</th>\n",
       "      <td>ROHIT  Kumar</td>\n",
       "      <td>Highly recommended</td>\n",
       "    </tr>\n",
       "    <tr>\n",
       "      <th>2</th>\n",
       "      <td>Sucharita  Ghosh roy</td>\n",
       "      <td>Does the job</td>\n",
       "    </tr>\n",
       "    <tr>\n",
       "      <th>3</th>\n",
       "      <td>Ashu  sharma</td>\n",
       "      <td>Perfect product!</td>\n",
       "    </tr>\n",
       "    <tr>\n",
       "      <th>4</th>\n",
       "      <td>Flipkart Customer</td>\n",
       "      <td>Very Good</td>\n",
       "    </tr>\n",
       "    <tr>\n",
       "      <th>5</th>\n",
       "      <td>Flipkart Customer</td>\n",
       "      <td>Bad quality</td>\n",
       "    </tr>\n",
       "    <tr>\n",
       "      <th>6</th>\n",
       "      <td>JITENDRA KUMAR  YADAV</td>\n",
       "      <td>Highly recommended</td>\n",
       "    </tr>\n",
       "  </tbody>\n",
       "</table>\n",
       "</div>"
      ],
      "text/plain": [
       "           Customer_Name             Reviews\n",
       "0      Flipkart Customer       Great product\n",
       "1           ROHIT  Kumar  Highly recommended\n",
       "2   Sucharita  Ghosh roy        Does the job\n",
       "3           Ashu  sharma    Perfect product!\n",
       "4      Flipkart Customer           Very Good\n",
       "5      Flipkart Customer         Bad quality\n",
       "6  JITENDRA KUMAR  YADAV  Highly recommended"
      ]
     },
     "execution_count": 35,
     "metadata": {},
     "output_type": "execute_result"
    }
   ],
   "source": [
    "review=pd.DataFrame(review, columns=['Reviews'])\n",
    "Flipkart['Reviews']=review['Reviews']\n",
    "Flipkart"
   ]
  },
  {
   "cell_type": "code",
   "execution_count": null,
   "id": "fd2b9554",
   "metadata": {},
   "outputs": [],
   "source": []
  },
  {
   "cell_type": "markdown",
   "id": "8dad7337",
   "metadata": {},
   "source": [
    "### Price of products"
   ]
  },
  {
   "cell_type": "code",
   "execution_count": 36,
   "id": "98ed4bb1",
   "metadata": {},
   "outputs": [
    {
     "name": "stdout",
     "output_type": "stream",
     "text": [
      "['₹19,990', '₹19,990', '₹185', '₹557']\n"
     ]
    }
   ],
   "source": [
    "flipkart_parser_p=BeautifulSoup(flipkart_req.content, parser='html.parser') #HTML view\n",
    "\n",
    "price=[]\n",
    "for i in flipkart_parser.find_all(\"div\", class_=\"_30jeq3\"):\n",
    "    v=i.text\n",
    "    price.append(v)\n",
    "print(price)"
   ]
  },
  {
   "cell_type": "code",
   "execution_count": 37,
   "id": "7763d69e",
   "metadata": {},
   "outputs": [
    {
     "data": {
      "text/html": [
       "<div>\n",
       "<style scoped>\n",
       "    .dataframe tbody tr th:only-of-type {\n",
       "        vertical-align: middle;\n",
       "    }\n",
       "\n",
       "    .dataframe tbody tr th {\n",
       "        vertical-align: top;\n",
       "    }\n",
       "\n",
       "    .dataframe thead th {\n",
       "        text-align: right;\n",
       "    }\n",
       "</style>\n",
       "<table border=\"1\" class=\"dataframe\">\n",
       "  <thead>\n",
       "    <tr style=\"text-align: right;\">\n",
       "      <th></th>\n",
       "      <th>Customer_Name</th>\n",
       "      <th>Reviews</th>\n",
       "      <th>Price</th>\n",
       "    </tr>\n",
       "  </thead>\n",
       "  <tbody>\n",
       "    <tr>\n",
       "      <th>0</th>\n",
       "      <td>Flipkart Customer</td>\n",
       "      <td>Great product</td>\n",
       "      <td>₹19,990</td>\n",
       "    </tr>\n",
       "    <tr>\n",
       "      <th>1</th>\n",
       "      <td>ROHIT  Kumar</td>\n",
       "      <td>Highly recommended</td>\n",
       "      <td>₹19,990</td>\n",
       "    </tr>\n",
       "    <tr>\n",
       "      <th>2</th>\n",
       "      <td>Sucharita  Ghosh roy</td>\n",
       "      <td>Does the job</td>\n",
       "      <td>₹185</td>\n",
       "    </tr>\n",
       "    <tr>\n",
       "      <th>3</th>\n",
       "      <td>Ashu  sharma</td>\n",
       "      <td>Perfect product!</td>\n",
       "      <td>₹557</td>\n",
       "    </tr>\n",
       "    <tr>\n",
       "      <th>4</th>\n",
       "      <td>Flipkart Customer</td>\n",
       "      <td>Very Good</td>\n",
       "      <td>NaN</td>\n",
       "    </tr>\n",
       "    <tr>\n",
       "      <th>5</th>\n",
       "      <td>Flipkart Customer</td>\n",
       "      <td>Bad quality</td>\n",
       "      <td>NaN</td>\n",
       "    </tr>\n",
       "    <tr>\n",
       "      <th>6</th>\n",
       "      <td>JITENDRA KUMAR  YADAV</td>\n",
       "      <td>Highly recommended</td>\n",
       "      <td>NaN</td>\n",
       "    </tr>\n",
       "  </tbody>\n",
       "</table>\n",
       "</div>"
      ],
      "text/plain": [
       "           Customer_Name             Reviews    Price\n",
       "0      Flipkart Customer       Great product  ₹19,990\n",
       "1           ROHIT  Kumar  Highly recommended  ₹19,990\n",
       "2   Sucharita  Ghosh roy        Does the job     ₹185\n",
       "3           Ashu  sharma    Perfect product!     ₹557\n",
       "4      Flipkart Customer           Very Good      NaN\n",
       "5      Flipkart Customer         Bad quality      NaN\n",
       "6  JITENDRA KUMAR  YADAV  Highly recommended      NaN"
      ]
     },
     "execution_count": 37,
     "metadata": {},
     "output_type": "execute_result"
    }
   ],
   "source": [
    "price=pd.DataFrame(price, columns=['Price'])\n",
    "Flipkart['Price']=price['Price']\n",
    "Flipkart"
   ]
  },
  {
   "cell_type": "code",
   "execution_count": null,
   "id": "f744f5fc",
   "metadata": {},
   "outputs": [],
   "source": []
  },
  {
   "cell_type": "code",
   "execution_count": null,
   "id": "28ea0a22",
   "metadata": {},
   "outputs": [],
   "source": []
  },
  {
   "cell_type": "markdown",
   "id": "213aa7d3",
   "metadata": {},
   "source": [
    "## Crickbuz"
   ]
  },
  {
   "cell_type": "markdown",
   "id": "3378b9dc",
   "metadata": {},
   "source": [
    "### Test Ranking"
   ]
  },
  {
   "cell_type": "code",
   "execution_count": 21,
   "id": "21f9c356",
   "metadata": {},
   "outputs": [
    {
     "data": {
      "text/plain": [
       "<Response [200]>"
      ]
     },
     "execution_count": 21,
     "metadata": {},
     "output_type": "execute_result"
    }
   ],
   "source": [
    "test_rank='https://www.cricbuzz.com/cricket-stats/icc-rankings/men/batting'\n",
    "test_rank_req=requests.get(test_rank)\n",
    "test_rank_req"
   ]
  },
  {
   "cell_type": "code",
   "execution_count": 36,
   "id": "19ed6b01",
   "metadata": {},
   "outputs": [
    {
     "name": "stdout",
     "output_type": "stream",
     "text": [
      "['Marnus Labuschagne', 'Steven Smith', 'Babar Azam', 'Travis Head', 'Joe Root', 'Kane Williamson', 'Rishabh Pant', 'Usman Khawaja', 'Dimuth Karunaratne', 'Rohit Sharma', 'Daryl Mitchell', 'Litton Das', 'Jonny Bairstow', 'David Warner', 'Virat Kohli', 'Dinesh Chandimal', 'Tom Blundell', 'Shreyas Iyer', 'Tom Latham', 'Angelo Mathews', 'Devon Conway', 'Cheteshwar Pujara', 'Temba Bavuma', 'Mushfiqur Rahim', 'Kraigg Brathwaite', 'Ben Stokes', 'Mayank Agarwal', 'Alex Carey', 'Ollie Pope', 'Imam-ul-Haq', 'Mohammad Rizwan', 'Sean Williams', 'Dean Elgar', 'Azhar Ali', 'Colin de Grandhomme', 'Henry Nicholls', 'Abid Ali', 'Ravindra Jadeja', 'Cameron Green', 'Dhananjaya de Silva', 'Shakib Al Hasan', 'Ajinkya Rahane', 'Tamim Iqbal', 'Keegan Petersen', 'Harry Brook', 'Abdullah Shafique', 'Jermaine Blackwood', 'Niroshan Dickwella', 'Kyle Verreynne', 'Sarfaraz Ahmed', 'Sikandar Raza', 'Nkrumah Bonner', 'Zak Crawley', 'KL Rahul', 'Kusal Mendis', 'Ben Duckett', 'Fawad Alam', 'Rassie van der Dussen', 'Aiden Markram', 'Oshada Fernando', 'Shubman Gill', 'Hanuma Vihari', 'Ibrahim Zadran', 'Rory Burns', 'Ben Foakes', 'Mahmudullah', 'Tim Paine', 'Mominul Haque', 'Kyle Mayers', 'Pathum Nissanka', 'Jos Buttler', 'Jason Holder', 'Sarel Erwee', 'Kusal Perera', 'Shane Dowrich', 'Alex Lees', 'Matthew Wade', 'John Campbell', 'Joshua Da Silva', 'Regis Chakabva', 'Joe Burns', 'Washington Sundar', 'Ravichandran Ashwin', 'Shan Masood', 'Najmul Hossain Shanto', 'Lahiru Thirimanne', 'Hashmatullah Shahidi', 'Kamindu Mendis', 'Dominic Sibley', 'Faheem Ashraf', 'Jamie Overton', 'Nurul Hasan', 'Chris Woakes', 'Roston Chase', 'Dawid Malan', 'Marcus Harris', 'Will Young']\n"
     ]
    }
   ],
   "source": [
    "test_rank_parser=BeautifulSoup(bat_rank_req.content, parser='html.parser')\n",
    "\n",
    "test_ranking=[]\n",
    "for i in test_rank_parser.find_all(\"a\", class_=\"text-hvr-underline text-bold cb-font-16\"):\n",
    "    v=i.text\n",
    "    test_ranking.append(v)\n",
    "print(test_ranking[0:97])"
   ]
  },
  {
   "cell_type": "code",
   "execution_count": 37,
   "id": "05704d02",
   "metadata": {},
   "outputs": [
    {
     "data": {
      "text/html": [
       "<div>\n",
       "<style scoped>\n",
       "    .dataframe tbody tr th:only-of-type {\n",
       "        vertical-align: middle;\n",
       "    }\n",
       "\n",
       "    .dataframe tbody tr th {\n",
       "        vertical-align: top;\n",
       "    }\n",
       "\n",
       "    .dataframe thead th {\n",
       "        text-align: right;\n",
       "    }\n",
       "</style>\n",
       "<table border=\"1\" class=\"dataframe\">\n",
       "  <thead>\n",
       "    <tr style=\"text-align: right;\">\n",
       "      <th></th>\n",
       "      <th>Test_Ranking</th>\n",
       "    </tr>\n",
       "  </thead>\n",
       "  <tbody>\n",
       "    <tr>\n",
       "      <th>0</th>\n",
       "      <td>Marnus Labuschagne</td>\n",
       "    </tr>\n",
       "    <tr>\n",
       "      <th>1</th>\n",
       "      <td>Steven Smith</td>\n",
       "    </tr>\n",
       "    <tr>\n",
       "      <th>2</th>\n",
       "      <td>Babar Azam</td>\n",
       "    </tr>\n",
       "    <tr>\n",
       "      <th>3</th>\n",
       "      <td>Travis Head</td>\n",
       "    </tr>\n",
       "    <tr>\n",
       "      <th>4</th>\n",
       "      <td>Joe Root</td>\n",
       "    </tr>\n",
       "    <tr>\n",
       "      <th>5</th>\n",
       "      <td>Kane Williamson</td>\n",
       "    </tr>\n",
       "    <tr>\n",
       "      <th>6</th>\n",
       "      <td>Rishabh Pant</td>\n",
       "    </tr>\n",
       "    <tr>\n",
       "      <th>7</th>\n",
       "      <td>Usman Khawaja</td>\n",
       "    </tr>\n",
       "    <tr>\n",
       "      <th>8</th>\n",
       "      <td>Dimuth Karunaratne</td>\n",
       "    </tr>\n",
       "    <tr>\n",
       "      <th>9</th>\n",
       "      <td>Rohit Sharma</td>\n",
       "    </tr>\n",
       "  </tbody>\n",
       "</table>\n",
       "</div>"
      ],
      "text/plain": [
       "         Test_Ranking\n",
       "0  Marnus Labuschagne\n",
       "1        Steven Smith\n",
       "2          Babar Azam\n",
       "3         Travis Head\n",
       "4            Joe Root\n",
       "5     Kane Williamson\n",
       "6        Rishabh Pant\n",
       "7       Usman Khawaja\n",
       "8  Dimuth Karunaratne\n",
       "9        Rohit Sharma"
      ]
     },
     "execution_count": 37,
     "metadata": {},
     "output_type": "execute_result"
    }
   ],
   "source": [
    "Ranking_Men=pd.DataFrame(test_ranking, columns=[\"Test_Ranking\"])[:10]\n",
    "Ranking_Men"
   ]
  },
  {
   "cell_type": "code",
   "execution_count": null,
   "id": "f020edc5",
   "metadata": {},
   "outputs": [],
   "source": []
  },
  {
   "cell_type": "markdown",
   "id": "349f5f07",
   "metadata": {},
   "source": [
    "### ODI ranking"
   ]
  },
  {
   "cell_type": "code",
   "execution_count": 38,
   "id": "059424b6",
   "metadata": {},
   "outputs": [
    {
     "data": {
      "text/plain": [
       "<Response [200]>"
      ]
     },
     "execution_count": 38,
     "metadata": {},
     "output_type": "execute_result"
    }
   ],
   "source": [
    "odi_rank='https://www.cricbuzz.com/cricket-stats/icc-rankings/men/batting'\n",
    "odi_rank_req=requests.get(odi_rank)\n",
    "odi_rank_req"
   ]
  },
  {
   "cell_type": "code",
   "execution_count": 47,
   "id": "e4a1a505",
   "metadata": {},
   "outputs": [
    {
     "name": "stdout",
     "output_type": "stream",
     "text": [
      "['Babar Azam', 'Rassie van der Dussen', 'Imam-ul-Haq', 'Quinton de Kock', 'David Warner', 'Virat Kohli', 'Steven Smith', 'Rohit Sharma', 'Jonny Bairstow', 'Fakhar Zaman', 'Kane Williamson', 'Shai Hope', 'Joe Root', 'Paul Stirling', 'Shreyas Iyer', 'Tom Latham', 'Tamim Iqbal', 'Jason Roy', 'David Miller', 'Alex Carey', 'Aaron Finch', 'Mushfiqur Rahim', 'Glenn Maxwell', 'Shikhar Dhawan', 'Rahmat Shah', 'Martin Guptill', 'Harry Tector', 'Nicholas Pooran', 'Travis Head', 'Litton Das', 'Jos Buttler', 'Sikandar Raza', 'Shakib Al Hasan', 'Charith Asalanka', 'Mahmudullah', 'Shubman Gill', 'Gerhard Erasmus', 'Ishan Kishan', 'KL Rahul', 'Calum MacLeod', 'Haris Sohail', 'Najibullah Zadran', 'Kyle Coetzer', 'Andrew Balbirnie', 'Assad Vala', 'Monank Patel', 'George Munsey', 'Ibrahim Zadran', 'Kusal Mendis', 'Janneman Malan', 'Aqib Ilyas', 'Hashmatullah Shahidi', 'Aaron Jones', 'Sean Williams', 'Aiden Markram', 'Heinrich Klaasen', 'Rahmanullah Gurbaz', 'Avishka Fernando', 'Henry Nicholls', 'Shimron Hetmyer', 'Dasun Shanaka', 'Scott Edwards', 'Finn Allen', 'Zeeshan Maqsood', 'Jatinder Singh', 'Kusal Perera', 'Mohammad Nabi', 'Danushka Gunathilaka', 'Richie Berrington', 'Marnus Labuschagne', 'Angelo Mathews', 'Imad Wasim', 'Vriitya Aravind', 'Dhananjaya de Silva', 'Mohammad Rizwan', 'Hardik Pandya', 'Tom Cooper', 'Steven Taylor', 'Marcus Stoinis', 'Temba Bavuma', 'Evin Lewis', 'Rohit Paudel', 'Mitchell Santner', 'Sarfaraz Ahmed', 'Soumya Sarkar', 'Pathum Nissanka', 'Mitchell Marsh', 'James Neesham', 'Shamarh Brooks', 'Mehidy Hasan Miraz', 'Rishabh Pant', 'Niroshan Dickwella', 'Michael Leask', 'Max ODowd', 'Craig Ervine', 'Philip Salt', 'Sanju Samson', 'Colin de Grandhomme', 'Dawid Malan']\n"
     ]
    }
   ],
   "source": [
    "odi_rank_parser=BeautifulSoup(odi_rank_req.content, parser='html.parser')\n",
    "\n",
    "odi_ranking=[]\n",
    "for i in odi_rank_parser.find_all(\"a\", class_=\"text-hvr-underline text-bold cb-font-16\"):\n",
    "    v=i.text\n",
    "    odi_ranking.append(v)\n",
    "print(odi_ranking[97:196])\n",
    "odi=odi_ranking[97:196]"
   ]
  },
  {
   "cell_type": "code",
   "execution_count": 48,
   "id": "8ae6be8a",
   "metadata": {},
   "outputs": [
    {
     "data": {
      "text/html": [
       "<div>\n",
       "<style scoped>\n",
       "    .dataframe tbody tr th:only-of-type {\n",
       "        vertical-align: middle;\n",
       "    }\n",
       "\n",
       "    .dataframe tbody tr th {\n",
       "        vertical-align: top;\n",
       "    }\n",
       "\n",
       "    .dataframe thead th {\n",
       "        text-align: right;\n",
       "    }\n",
       "</style>\n",
       "<table border=\"1\" class=\"dataframe\">\n",
       "  <thead>\n",
       "    <tr style=\"text-align: right;\">\n",
       "      <th></th>\n",
       "      <th>Test_Ranking</th>\n",
       "      <th>ODI_Ranking</th>\n",
       "    </tr>\n",
       "  </thead>\n",
       "  <tbody>\n",
       "    <tr>\n",
       "      <th>0</th>\n",
       "      <td>Marnus Labuschagne</td>\n",
       "      <td>Babar Azam</td>\n",
       "    </tr>\n",
       "    <tr>\n",
       "      <th>1</th>\n",
       "      <td>Steven Smith</td>\n",
       "      <td>Rassie van der Dussen</td>\n",
       "    </tr>\n",
       "    <tr>\n",
       "      <th>2</th>\n",
       "      <td>Babar Azam</td>\n",
       "      <td>Imam-ul-Haq</td>\n",
       "    </tr>\n",
       "    <tr>\n",
       "      <th>3</th>\n",
       "      <td>Travis Head</td>\n",
       "      <td>Quinton de Kock</td>\n",
       "    </tr>\n",
       "    <tr>\n",
       "      <th>4</th>\n",
       "      <td>Joe Root</td>\n",
       "      <td>David Warner</td>\n",
       "    </tr>\n",
       "    <tr>\n",
       "      <th>5</th>\n",
       "      <td>Kane Williamson</td>\n",
       "      <td>Virat Kohli</td>\n",
       "    </tr>\n",
       "    <tr>\n",
       "      <th>6</th>\n",
       "      <td>Rishabh Pant</td>\n",
       "      <td>Steven Smith</td>\n",
       "    </tr>\n",
       "    <tr>\n",
       "      <th>7</th>\n",
       "      <td>Usman Khawaja</td>\n",
       "      <td>Rohit Sharma</td>\n",
       "    </tr>\n",
       "    <tr>\n",
       "      <th>8</th>\n",
       "      <td>Dimuth Karunaratne</td>\n",
       "      <td>Jonny Bairstow</td>\n",
       "    </tr>\n",
       "    <tr>\n",
       "      <th>9</th>\n",
       "      <td>Rohit Sharma</td>\n",
       "      <td>Fakhar Zaman</td>\n",
       "    </tr>\n",
       "  </tbody>\n",
       "</table>\n",
       "</div>"
      ],
      "text/plain": [
       "         Test_Ranking            ODI_Ranking\n",
       "0  Marnus Labuschagne             Babar Azam\n",
       "1        Steven Smith  Rassie van der Dussen\n",
       "2          Babar Azam            Imam-ul-Haq\n",
       "3         Travis Head        Quinton de Kock\n",
       "4            Joe Root           David Warner\n",
       "5     Kane Williamson            Virat Kohli\n",
       "6        Rishabh Pant           Steven Smith\n",
       "7       Usman Khawaja           Rohit Sharma\n",
       "8  Dimuth Karunaratne         Jonny Bairstow\n",
       "9        Rohit Sharma           Fakhar Zaman"
      ]
     },
     "execution_count": 48,
     "metadata": {},
     "output_type": "execute_result"
    }
   ],
   "source": [
    "odi_ranks=pd.DataFrame(odi, columns=[\"ODI_Ranking\"])[:10]\n",
    "Ranking_Men[\"ODI_Ranking\"]=odi_ranks[\"ODI_Ranking\"]\n",
    "Ranking_Men"
   ]
  },
  {
   "cell_type": "code",
   "execution_count": null,
   "id": "c49d1e0c",
   "metadata": {},
   "outputs": [],
   "source": []
  },
  {
   "cell_type": "markdown",
   "id": "8163ebfc",
   "metadata": {},
   "source": [
    "### T20 Ranking"
   ]
  },
  {
   "cell_type": "code",
   "execution_count": 49,
   "id": "e545e390",
   "metadata": {},
   "outputs": [
    {
     "data": {
      "text/plain": [
       "<Response [200]>"
      ]
     },
     "execution_count": 49,
     "metadata": {},
     "output_type": "execute_result"
    }
   ],
   "source": [
    "t20_rank='https://www.cricbuzz.com/cricket-stats/icc-rankings/men/batting'\n",
    "t20_rank_req=requests.get(odi_rank)\n",
    "t20_rank_req"
   ]
  },
  {
   "cell_type": "code",
   "execution_count": 52,
   "id": "988efba0",
   "metadata": {},
   "outputs": [
    {
     "name": "stdout",
     "output_type": "stream",
     "text": [
      "['Suryakumar Yadav', 'Mohammad Rizwan', 'Devon Conway', 'Babar Azam', 'Aiden Markram', 'Dawid Malan', 'Glenn Phillips', 'Rilee Rossouw', 'Aaron Finch', 'Alex Hales', 'Jos Buttler', 'Pathum Nissanka', 'Virat Kohli', 'Muhammad Waseem', 'Quinton de Kock', 'Rahmanullah Gurbaz', 'Brandon King', 'Nicholas Pooran', 'Reeza Hendricks', 'George Munsey', 'Rassie van der Dussen', 'KL Rahul', 'Martin Guptill', 'Rohit Sharma', 'Richie Berrington', 'Paul Stirling', 'Hazratullah Zazai', 'Finn Allen', 'Mitchell Marsh', 'David Miller', 'Litton Das', 'Charith Asalanka', 'Ishan Kishan', 'Kusal Mendis', 'Kane Williamson', 'Glenn Maxwell', 'Najibullah Zadran', 'Daryl Mitchell', 'David Warner', 'Marcus Stoinis', 'Tony Ura', 'Bhanuka Rajapaksa', 'Dasun Shanaka', 'Max ODowd', 'Ben Duckett', 'Ibrahim Zadran', 'Moeen Ali', 'Afif Hossain', 'Andrew Balbirnie', 'Jason Roy', 'Kushal Bhurtel', 'Iftikhar Ahmed', 'Hardik Pandya', 'Rovman Powell', 'Mohammad Nabi', 'Heinrich Klaasen', 'Shan Masood', 'Dipendra Singh Airee', 'Wesley Madhevere', 'Navneet Dhaliwal', 'Shreyas Iyer', 'Gerhard Erasmus', 'Shakib Al Hasan', 'Jonny Bairstow', 'Mahmudullah', 'Matthew Wade', 'Evin Lewis', 'Mohammad Naim', 'Lorcan Tucker', 'Sikandar Raza', 'Kyle Mayers', 'Harry Brook', 'Jatinder Singh', 'Rayyan Pathan', 'Zeeshan Maqsood', 'Craig Williams', 'Temba Bavuma', 'Sean Williams', 'Calum MacLeod', 'JJ Smit', 'Ben Cooper ', 'Matthew Cross', 'Fakhar Zaman', 'Najmul Hossain Shanto', 'Liam Livingstone', 'Rishabh Pant', 'Sese Bau', 'Usman Ghani', 'Stephan Baard', 'Chirag Suri', 'Vriitya Aravind', 'Dhananjaya de Silva', 'Ryan Burl', 'Mohammad Usman', 'Shimron Hetmyer', 'Craig Ervine', 'Norman Vanua', 'Harry Tector']\n"
     ]
    }
   ],
   "source": [
    "t20_rank_parser=BeautifulSoup(t20_rank_req.content, parser='html.parser')\n",
    "\n",
    "t20_ranking=[]\n",
    "for i in t20_rank_parser.find_all(\"a\", class_=\"text-hvr-underline text-bold cb-font-16\"):\n",
    "    v=i.text\n",
    "    t20_ranking.append(v)\n",
    "print(t20_ranking[196:])\n",
    "t20=t20_ranking[196:]"
   ]
  },
  {
   "cell_type": "code",
   "execution_count": 53,
   "id": "54e2a9ca",
   "metadata": {},
   "outputs": [
    {
     "data": {
      "text/html": [
       "<div>\n",
       "<style scoped>\n",
       "    .dataframe tbody tr th:only-of-type {\n",
       "        vertical-align: middle;\n",
       "    }\n",
       "\n",
       "    .dataframe tbody tr th {\n",
       "        vertical-align: top;\n",
       "    }\n",
       "\n",
       "    .dataframe thead th {\n",
       "        text-align: right;\n",
       "    }\n",
       "</style>\n",
       "<table border=\"1\" class=\"dataframe\">\n",
       "  <thead>\n",
       "    <tr style=\"text-align: right;\">\n",
       "      <th></th>\n",
       "      <th>Test_Ranking</th>\n",
       "      <th>ODI_Ranking</th>\n",
       "      <th>T20_Ranking</th>\n",
       "    </tr>\n",
       "  </thead>\n",
       "  <tbody>\n",
       "    <tr>\n",
       "      <th>0</th>\n",
       "      <td>Marnus Labuschagne</td>\n",
       "      <td>Babar Azam</td>\n",
       "      <td>Suryakumar Yadav</td>\n",
       "    </tr>\n",
       "    <tr>\n",
       "      <th>1</th>\n",
       "      <td>Steven Smith</td>\n",
       "      <td>Rassie van der Dussen</td>\n",
       "      <td>Mohammad Rizwan</td>\n",
       "    </tr>\n",
       "    <tr>\n",
       "      <th>2</th>\n",
       "      <td>Babar Azam</td>\n",
       "      <td>Imam-ul-Haq</td>\n",
       "      <td>Devon Conway</td>\n",
       "    </tr>\n",
       "    <tr>\n",
       "      <th>3</th>\n",
       "      <td>Travis Head</td>\n",
       "      <td>Quinton de Kock</td>\n",
       "      <td>Babar Azam</td>\n",
       "    </tr>\n",
       "    <tr>\n",
       "      <th>4</th>\n",
       "      <td>Joe Root</td>\n",
       "      <td>David Warner</td>\n",
       "      <td>Aiden Markram</td>\n",
       "    </tr>\n",
       "    <tr>\n",
       "      <th>5</th>\n",
       "      <td>Kane Williamson</td>\n",
       "      <td>Virat Kohli</td>\n",
       "      <td>Dawid Malan</td>\n",
       "    </tr>\n",
       "    <tr>\n",
       "      <th>6</th>\n",
       "      <td>Rishabh Pant</td>\n",
       "      <td>Steven Smith</td>\n",
       "      <td>Glenn Phillips</td>\n",
       "    </tr>\n",
       "    <tr>\n",
       "      <th>7</th>\n",
       "      <td>Usman Khawaja</td>\n",
       "      <td>Rohit Sharma</td>\n",
       "      <td>Rilee Rossouw</td>\n",
       "    </tr>\n",
       "    <tr>\n",
       "      <th>8</th>\n",
       "      <td>Dimuth Karunaratne</td>\n",
       "      <td>Jonny Bairstow</td>\n",
       "      <td>Aaron Finch</td>\n",
       "    </tr>\n",
       "    <tr>\n",
       "      <th>9</th>\n",
       "      <td>Rohit Sharma</td>\n",
       "      <td>Fakhar Zaman</td>\n",
       "      <td>Alex Hales</td>\n",
       "    </tr>\n",
       "  </tbody>\n",
       "</table>\n",
       "</div>"
      ],
      "text/plain": [
       "         Test_Ranking            ODI_Ranking       T20_Ranking\n",
       "0  Marnus Labuschagne             Babar Azam  Suryakumar Yadav\n",
       "1        Steven Smith  Rassie van der Dussen   Mohammad Rizwan\n",
       "2          Babar Azam            Imam-ul-Haq      Devon Conway\n",
       "3         Travis Head        Quinton de Kock        Babar Azam\n",
       "4            Joe Root           David Warner     Aiden Markram\n",
       "5     Kane Williamson            Virat Kohli       Dawid Malan\n",
       "6        Rishabh Pant           Steven Smith    Glenn Phillips\n",
       "7       Usman Khawaja           Rohit Sharma     Rilee Rossouw\n",
       "8  Dimuth Karunaratne         Jonny Bairstow       Aaron Finch\n",
       "9        Rohit Sharma           Fakhar Zaman        Alex Hales"
      ]
     },
     "execution_count": 53,
     "metadata": {},
     "output_type": "execute_result"
    }
   ],
   "source": [
    "t20_ranks=pd.DataFrame(t20, columns=[\"T20_Ranking\"])[:10]\n",
    "Ranking_Men[\"T20_Ranking\"]=t20_ranks[\"T20_Ranking\"]\n",
    "Ranking_Men"
   ]
  },
  {
   "cell_type": "code",
   "execution_count": 57,
   "id": "0fd97680",
   "metadata": {},
   "outputs": [
    {
     "data": {
      "text/html": [
       "<div>\n",
       "<style scoped>\n",
       "    .dataframe tbody tr th:only-of-type {\n",
       "        vertical-align: middle;\n",
       "    }\n",
       "\n",
       "    .dataframe tbody tr th {\n",
       "        vertical-align: top;\n",
       "    }\n",
       "\n",
       "    .dataframe thead th {\n",
       "        text-align: right;\n",
       "    }\n",
       "</style>\n",
       "<table border=\"1\" class=\"dataframe\">\n",
       "  <thead>\n",
       "    <tr style=\"text-align: right;\">\n",
       "      <th></th>\n",
       "      <th>Test_Ranking</th>\n",
       "      <th>ODI_Ranking</th>\n",
       "      <th>T20_Ranking</th>\n",
       "    </tr>\n",
       "  </thead>\n",
       "  <tbody>\n",
       "    <tr>\n",
       "      <th>1</th>\n",
       "      <td>Marnus Labuschagne</td>\n",
       "      <td>Babar Azam</td>\n",
       "      <td>Suryakumar Yadav</td>\n",
       "    </tr>\n",
       "    <tr>\n",
       "      <th>2</th>\n",
       "      <td>Steven Smith</td>\n",
       "      <td>Rassie van der Dussen</td>\n",
       "      <td>Mohammad Rizwan</td>\n",
       "    </tr>\n",
       "    <tr>\n",
       "      <th>3</th>\n",
       "      <td>Babar Azam</td>\n",
       "      <td>Imam-ul-Haq</td>\n",
       "      <td>Devon Conway</td>\n",
       "    </tr>\n",
       "    <tr>\n",
       "      <th>4</th>\n",
       "      <td>Travis Head</td>\n",
       "      <td>Quinton de Kock</td>\n",
       "      <td>Babar Azam</td>\n",
       "    </tr>\n",
       "    <tr>\n",
       "      <th>5</th>\n",
       "      <td>Joe Root</td>\n",
       "      <td>David Warner</td>\n",
       "      <td>Aiden Markram</td>\n",
       "    </tr>\n",
       "    <tr>\n",
       "      <th>6</th>\n",
       "      <td>Kane Williamson</td>\n",
       "      <td>Virat Kohli</td>\n",
       "      <td>Dawid Malan</td>\n",
       "    </tr>\n",
       "    <tr>\n",
       "      <th>7</th>\n",
       "      <td>Rishabh Pant</td>\n",
       "      <td>Steven Smith</td>\n",
       "      <td>Glenn Phillips</td>\n",
       "    </tr>\n",
       "    <tr>\n",
       "      <th>8</th>\n",
       "      <td>Usman Khawaja</td>\n",
       "      <td>Rohit Sharma</td>\n",
       "      <td>Rilee Rossouw</td>\n",
       "    </tr>\n",
       "    <tr>\n",
       "      <th>9</th>\n",
       "      <td>Dimuth Karunaratne</td>\n",
       "      <td>Jonny Bairstow</td>\n",
       "      <td>Aaron Finch</td>\n",
       "    </tr>\n",
       "    <tr>\n",
       "      <th>10</th>\n",
       "      <td>Rohit Sharma</td>\n",
       "      <td>Fakhar Zaman</td>\n",
       "      <td>Alex Hales</td>\n",
       "    </tr>\n",
       "  </tbody>\n",
       "</table>\n",
       "</div>"
      ],
      "text/plain": [
       "          Test_Ranking            ODI_Ranking       T20_Ranking\n",
       "1   Marnus Labuschagne             Babar Azam  Suryakumar Yadav\n",
       "2         Steven Smith  Rassie van der Dussen   Mohammad Rizwan\n",
       "3           Babar Azam            Imam-ul-Haq      Devon Conway\n",
       "4          Travis Head        Quinton de Kock        Babar Azam\n",
       "5             Joe Root           David Warner     Aiden Markram\n",
       "6      Kane Williamson            Virat Kohli       Dawid Malan\n",
       "7         Rishabh Pant           Steven Smith    Glenn Phillips\n",
       "8        Usman Khawaja           Rohit Sharma     Rilee Rossouw\n",
       "9   Dimuth Karunaratne         Jonny Bairstow       Aaron Finch\n",
       "10        Rohit Sharma           Fakhar Zaman        Alex Hales"
      ]
     },
     "execution_count": 57,
     "metadata": {},
     "output_type": "execute_result"
    }
   ],
   "source": [
    "Ranking_Men.index=np.arange(1,11)\n",
    "Ranking_Men"
   ]
  },
  {
   "cell_type": "code",
   "execution_count": null,
   "id": "88aee1ec",
   "metadata": {},
   "outputs": [],
   "source": []
  },
  {
   "cell_type": "code",
   "execution_count": null,
   "id": "4430813a",
   "metadata": {},
   "outputs": [],
   "source": []
  }
 ],
 "metadata": {
  "kernelspec": {
   "display_name": "python3.11",
   "language": "python",
   "name": "python3.11"
  },
  "language_info": {
   "codemirror_mode": {
    "name": "ipython",
    "version": 3
   },
   "file_extension": ".py",
   "mimetype": "text/x-python",
   "name": "python",
   "nbconvert_exporter": "python",
   "pygments_lexer": "ipython3",
   "version": "3.9.7"
  }
 },
 "nbformat": 4,
 "nbformat_minor": 5
}
